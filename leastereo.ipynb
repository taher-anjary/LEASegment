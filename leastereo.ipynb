{
 "cells": [
  {
   "cell_type": "code",
   "execution_count": 1,
   "metadata": {},
   "outputs": [],
   "source": [
    "!sh create_link.sh"
   ]
  },
  {
   "cell_type": "code",
   "execution_count": 12,
   "metadata": {
    "collapsed": true
   },
   "outputs": [
    {
     "name": "stdout",
     "output_type": "stream",
     "text": [
      "Namespace(cell_arch_fea='run/sceneflow/best/architecture/feature_genotype.npy', cell_arch_mat='run/sceneflow/best/architecture/matching_genotype.npy', crop_height=384, crop_width=1248, cuda=True, data_path='./dataset/kitti2015/testing/', fea_block_multiplier=4, fea_filter_multiplier=8, fea_num_layers=6, fea_step=3, kitti2012=0, kitti2015=1, mat_block_multiplier=4, mat_filter_multiplier=8, mat_num_layers=12, mat_step=3, maxdisp=192, middlebury=0, net_arch_fea='run/sceneflow/best/architecture/feature_network_path.npy', net_arch_mat='run/sceneflow/best/architecture/matching_network_path.npy', resume='./run/Kitti15/best/best.pth', save_path='./predict/kitti2015/images/', sceneflow=0, test_list='./dataloaders/lists/kitti2015_test.list')\n",
      "===> Building LEAStereo model\n",
      "Feature network path:[1 0 1 0 0 0]\n",
      "Matching network path:[1 1 2 2 1 2 2 2 1 1 0 1] \n",
      "\n",
      "Total Params = 1.81MB\n",
      "Feature Net Params = 0.10MB\n",
      "Matching Net Params = 1.71MB\n",
      "compute_average_flops_cost = 4203.61MB\n",
      "=> loading checkpoint './run/Kitti15/best/best.pth'\n",
      "predict.py:84: MatplotlibDeprecationWarning: Passing raw data via parameters data and lut to register_cmap() is deprecated since 3.3 and will become an error two minor releases later. Instead use: register_cmap(cmap=LinearSegmentedColormap(name, data, lut))\n",
      "  plt.register_cmap(name='turbo', data=mpl_data, lut=turbo_colormap_data.shape[0])\n",
      "^C\n",
      "Traceback (most recent call last):\n",
      "  File \"predict.py\", line 294, in <module>\n",
      "    test_kitti(leftname, rightname, savename)\n",
      "  File \"predict.py\", line 231, in test_kitti\n",
      "    input1, input2, height, width = test_transform(load_data(leftname, rightname), opt.crop_height, opt.crop_width)\n",
      "  File \"predict.py\", line 187, in load_data\n",
      "    temp_data[3, :, :] = (r - np.mean(r[:])) / np.std(r[:])\n",
      "  File \"<__array_function__ internals>\", line 5, in std\n",
      "  File \"/kuacc/users/tanjary21/.conda/envs/leas/lib/python3.8/site-packages/numpy/core/fromnumeric.py\", line 3496, in std\n",
      "    return _methods._std(a, axis=axis, dtype=dtype, out=out, ddof=ddof,\n",
      "  File \"/kuacc/users/tanjary21/.conda/envs/leas/lib/python3.8/site-packages/numpy/core/_methods.py\", line 233, in _std\n",
      "    ret = _var(a, axis=axis, dtype=dtype, out=out, ddof=ddof,\n",
      "  File \"/kuacc/users/tanjary21/.conda/envs/leas/lib/python3.8/site-packages/numpy/core/_methods.py\", line 205, in _var\n",
      "    x = um.multiply(x, x, out=x)\n",
      "KeyboardInterrupt\n"
     ]
    }
   ],
   "source": [
    "!sh predict_kitti15.sh #>> ./console/results0.txt"
   ]
  },
  {
   "cell_type": "code",
   "execution_count": 6,
   "metadata": {
    "collapsed": true
   },
   "outputs": [
    {
     "name": "stdout",
     "output_type": "stream",
     "text": [
      "Namespace(batch_size=2, cell_arch_fea='run/sceneflow/best/architecture/feature_genotype.npy', cell_arch_mat='run/sceneflow/best/architecture/matching_genotype.npy', crop_height=288, crop_width=576, cuda=1, dataset='kitti15', fea_block_multiplier=4, fea_filter_multiplier=8, fea_num_layers=6, fea_step=3, lr=0.001, mat_block_multiplier=4, mat_filter_multiplier=8, mat_num_layers=12, mat_step=3, maxdisp=192, milestones=[30, 50, 300], nEpochs=800, net_arch_fea='run/sceneflow/best/architecture/feature_network_path.npy', net_arch_mat='run/sceneflow/best/architecture/matching_network_path.npy', resume='./run/sceneflow/best/checkpoint/best.pth', save_path='./run/Kitti15/', seed=2019, shift=0, solver='adam', stage='train', testBatchSize=1, threads=8)\n",
      "===> Loading datasets\n",
      "===> Building model\n",
      "Feature network path:[1 0 1 0 0 0]\n",
      "Matching network path:[1 1 2 2 1 2 2 2 1 1 0 1] \n",
      "\n",
      "Total Params = 1.81MB\n",
      "Feature Net Params = 0.10MB\n",
      "Matching Net Params = 1.71MB\n",
      "=> loading checkpoint './run/sceneflow/best/checkpoint/best.pth'\n",
      "===> Epoch[1](0/90): Loss: (0.4921), Error: (0.8418), Time: (11.21s)\n",
      "===> Epoch[1](1/90): Loss: (0.5560), Error: (0.9319), Time: (3.21s)\n",
      "===> Epoch[1](2/90): Loss: (0.4180), Error: (0.7548), Time: (3.19s)\n",
      "===> Epoch[1](3/90): Loss: (0.4529), Error: (0.7789), Time: (3.20s)\n",
      "===> Epoch[1](4/90): Loss: (0.3710), Error: (0.7233), Time: (3.21s)\n",
      "===> Epoch[1](5/90): Loss: (0.5308), Error: (0.8793), Time: (3.19s)\n",
      "^C\n"
     ]
    }
   ],
   "source": [
    "!sh train_kitti15.sh"
   ]
  },
  {
   "cell_type": "code",
   "execution_count": null,
   "metadata": {
    "collapsed": true
   },
   "outputs": [
    {
     "name": "stdout",
     "output_type": "stream",
     "text": [
      "working with pytorch version 1.6.0\n",
      "with cuda version 10.2\n",
      "cudnn enabled: True\n",
      "cudnn version: 7605\n",
      "Namespace(alpha_epoch=3, arch_lr=0.001, arch_weight_decay=0.001, batch_size=1, clean_module=0, crop_height=192, crop_width=384, cuda=1, dataset='sceneflow', epochs=None, fea_block_multiplier=3, fea_filter_multiplier=4, fea_num_layers=6, fea_step=3, freeze_bn=False, ft=False, gpu_ids='0', lr=0.001, lr_scheduler='cos', mat_block_multiplier=3, mat_filter_multiplier=4, mat_num_layers=12, mat_step=3, max_disp=192, min_lr=0.001, momentum=0.9, nesterov=False, no_val=False, resume=None, seed=1, stage='search', start_epoch=0, testBatchSize=8, weight_decay=0.0003, workers=0)\n",
      "Feature Net block_multiplier:3\n",
      "Feature Net filter_multiplier:4\n",
      "Feature Net f_initial:4\n",
      "Matching Net block_multiplier:3\n",
      "Matching Net filter_multiplier:4\n",
      "Matching Net f_initial:4\n",
      "Using cos LR Scheduler!\n",
      "Total number of model parameters : 3780608\n",
      "Number of Feature Net parameters: 453072\n",
      "Number of Matching Net parameters: 3327536\n",
      "Starting Epoch: 0\n",
      "Total Epoches: 10\n",
      "  0%|                                                 | 0/10000 [00:00<?, ?it/s]\n",
      "=>Epoches 0, learning rate = 0.0010,                 previous best = 100.0000\n",
      "Train loss: 20.277:  18%|██▎          | 1798/10000 [4:06:17<18:48:17,  8.25s/it]"
     ]
    }
   ],
   "source": [
    "!sh search.sh"
   ]
  },
  {
   "cell_type": "code",
   "execution_count": 30,
   "metadata": {},
   "outputs": [
    {
     "name": "stdout",
     "output_type": "stream",
     "text": [
      "^C\r\n"
     ]
    }
   ],
   "source": [
    "!sh train_kitti15.sh >> ./console/results45.txt"
   ]
  },
  {
   "cell_type": "code",
   "execution_count": 19,
   "metadata": {
    "collapsed": true
   },
   "outputs": [
    {
     "name": "stdout",
     "output_type": "stream",
     "text": [
      "Namespace(batch_size=4, cell_arch_fea='run/sceneflow/best/architecture/feature_g\n",
      "enotype.npy', cell_arch_mat='run/sceneflow/best/architecture/matching_genotype.n\n",
      "py', crop_height=288, crop_width=576, cuda=1, dataset='kitti15', fea_block_multi\n",
      "plier=4, fea_filter_multiplier=8, fea_num_layers=6, fea_step=3, lr=0.001, mat_bl\n",
      "ock_multiplier=4, mat_filter_multiplier=8, mat_num_layers=12, mat_step=3, maxdis\n",
      "p=28, milestones=[30, 50, 300], nEpochs=800, net_arch_fea='run/sceneflow/best/ar\n",
      "chitecture/feature_network_path.npy', net_arch_mat='run/sceneflow/best/architect\n",
      "ure/matching_network_path.npy', resume='./run/sceneflow/best/checkpoint/best.pth\n",
      "', save_path='./run/Kitti15/', seed=2019, shift=0, solver='adam', stage='train',\n",
      " testBatchSize=1, threads=8)\n",
      "===> Loading datasets\n",
      "===> Building model\n",
      "Feature network path:[1 0 1 0 0 0]\n",
      "Matching network path:[1 1 2 2 1 2 2 2 1 1 0 1] \n",
      "\n",
      "Total Params = 1.81MB\n",
      "Feature Net Params = 0.10MB\n",
      "Matching Net Params = 1.71MB\n",
      "=> loading checkpoint './run/sceneflow/best/checkpoint/best.pth'\n",
      "===> Epoch[1](0/45): Loss: (15.0570), Error: (15.5552), Time: (3.30s)\n",
      "===> Epoch[1](1/45): Loss: (12.5712), Error: (13.0675), Time: (0.84s)\n",
      "===> Epoch[1](2/45): Loss: (10.1146), Error: (10.6128), Time: (0.81s)\n",
      "===> Epoch[1](3/45): Loss: (6.4885), Error: (6.9846), Time: (0.81s)\n",
      "\u001b[Km--More--(0%)\u001b[m"
     ]
    }
   ],
   "source": [
    "!more ./console/results0.txt"
   ]
  },
  {
   "cell_type": "code",
   "execution_count": null,
   "metadata": {},
   "outputs": [],
   "source": []
  }
 ],
 "metadata": {
  "kernelspec": {
   "display_name": "Python 3",
   "language": "python",
   "name": "python3"
  },
  "language_info": {
   "codemirror_mode": {
    "name": "ipython",
    "version": 3
   },
   "file_extension": ".py",
   "mimetype": "text/x-python",
   "name": "python",
   "nbconvert_exporter": "python",
   "pygments_lexer": "ipython3",
   "version": "3.8.5"
  }
 },
 "nbformat": 4,
 "nbformat_minor": 4
}
