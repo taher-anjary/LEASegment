{
 "cells": [
  {
   "cell_type": "code",
   "execution_count": 2,
   "metadata": {},
   "outputs": [],
   "source": [
    "import cv2\n",
    "import numpy as np\n",
    "import matplotlib.pyplot as plt"
   ]
  },
  {
   "cell_type": "code",
   "execution_count": 4,
   "metadata": {},
   "outputs": [
    {
     "name": "stdout",
     "output_type": "stream",
     "text": [
      "0\n",
      "110\n",
      "[  0   4   5   6   7   8   9  10  11  12  13  14  15  16  17  18  19  20\n",
      "  21  22  23  24  25  26  27  28  29  30  31  32  33  34  35  36  37  38\n",
      "  39  40  41  42  43  44  45  46  47  48  49  50  51  52  53  54  55  56\n",
      "  57  58  59  60  61  62  63  64  65 106 107 109 110]\n",
      "(376, 1241, 3)\n"
     ]
    },
    {
     "data": {
      "image/png": "[encoded data removed]",
      "text/plain": [
       "<Figure size 432x288 with 1 Axes>"
      ]
     },
     "metadata": {
      "needs_background": "light"
     },
     "output_type": "display_data"
    }
   ],
   "source": [
    "img = cv2.imread('/userfiles/tanjary21/lea_data/kitti2015/training/disp_occ_0/000199_10.png')\n",
    "#cv2.imshow('',img)\n",
    "plt.imshow(img)\n",
    "# img = np.array(img)\n",
    "# print(img)\n",
    "print(np.amin(img)) # 0\n",
    "print(np.amax(img)) # 110\n",
    "print(np.unique(img))\n",
    "print(img.shape)"
   ]
  },
  {
   "cell_type": "code",
   "execution_count": 6,
   "metadata": {},
   "outputs": [
    {
     "name": "stdout",
     "output_type": "stream",
     "text": [
      "4\n",
      "33\n",
      "[ 4  5  7  8 11 13 17 19 20 21 22 23 24 25 26 29 33]\n",
      "(375, 1242, 3)\n"
     ]
    },
    {
     "data": {
      "image/png": "[encoded data removed]",
      "text/plain": [
       "<Figure size 432x288 with 1 Axes>"
      ]
     },
     "metadata": {
      "needs_background": "light"
     },
     "output_type": "display_data"
    }
   ],
   "source": [
    "img = cv2.imread('/userfiles/tanjary21/lea_data/kitti2015/training/semantic/000150_10.png')\n",
    "#cv2.imshow('',img)\n",
    "plt.imshow(img)\n",
    "# img = np.array(img)\n",
    "# print(img)\n",
    "print(np.amin(img)) # 4\n",
    "print(np.amax(img)) # 28\n",
    "print(np.unique(img))\n",
    "print(img.shape)"
   ]
  },
  {
   "cell_type": "code",
   "execution_count": 65,
   "metadata": {},
   "outputs": [
    {
     "name": "stdout",
     "output_type": "stream",
     "text": [
      "min error: 1.7022 at epoch 58 loss 0.1966\n",
      "min loss: 0.1952 at epoch 52 error 1.7364\n"
     ]
    }
   ],
   "source": [
    "# V1 Architecture results0.txt\n",
    "# V2 Architecture results1.txt\n",
    "\n",
    "from io import StringIO\n",
    "import subprocess\n",
    "import pandas as pd\n",
    "import numpy as np\n",
    "np.set_printoptions(suppress=True)\n",
    "\n",
    "output = subprocess.check_output(\"more ./console/results1.txt | grep '===> Test: Avg. Error:'\", shell=True)\n",
    "output = str(output,'utf-8')\n",
    "output = StringIO(output)\n",
    "df=pd.read_csv(output,header=None, delimiter=r\"\\s+\")\n",
    "\n",
    "arr = np.array(df.iloc[:,[4,5]])\n",
    "\n",
    "for i,score in enumerate(arr):\n",
    "    arr[i,0] = float(score[0][1:])\n",
    "    arr[i,1] = float(score[1][:-1])\n",
    "\n",
    "arr = arr.astype(np.float32)\n",
    "\n",
    "print('min error:', np.min(arr[:,0]), 'at epoch',np.argmin(arr[:,0]),'loss',arr[np.argmin(arr[:,0]),1])\n",
    "print('min loss:', np.min(arr[:,1]),'at epoch' ,np.argmin(arr[:,1]),'error',arr[np.argmin(arr[:,1]),0])\n",
    "    "
   ]
  },
  {
   "cell_type": "code",
   "execution_count": 61,
   "metadata": {},
   "outputs": [
    {
     "name": "stdout",
     "output_type": "stream",
     "text": [
      "min loss: 2.6647 at epoch 237\n"
     ]
    }
   ],
   "source": [
    "# V3 Architecture results2.txt\n",
    "from io import StringIO\n",
    "import subprocess\n",
    "import pandas as pd\n",
    "import numpy as np\n",
    "np.set_printoptions(suppress=True)\n",
    "\n",
    "output = subprocess.check_output(\"more ./console/results2.txt | grep 'Avg. Loss:'\", shell=True)\n",
    "output = str(output,'utf-8')\n",
    "output = StringIO(output)\n",
    "df=pd.read_csv(output,header=None, delimiter=r\"\\s+\")\n",
    "\n",
    "arr = np.array(df.iloc[:,6])\n",
    "\n",
    "for i,score in enumerate(arr):\n",
    "    arr[i] = float(score[1:-2])\n",
    "\n",
    "arr = arr.astype(np.float32)\n",
    "\n",
    "print('min loss:', np.min(arr),'at epoch' ,np.argmin(arr))\n",
    "    "
   ]
  },
  {
   "cell_type": "code",
   "execution_count": 76,
   "metadata": {},
   "outputs": [
    {
     "name": "stdout",
     "output_type": "stream",
     "text": [
      "min error: 0.7027849942445756 at epoch 341 loss 0.91337501257658\n",
      "min loss: 0.7788349978625775 at epoch 105 error 0.7106000036001205\n"
     ]
    }
   ],
   "source": [
    "# V4 Architecture results3.txt\n",
    "\n",
    "from io import StringIO\n",
    "import subprocess\n",
    "import pandas as pd\n",
    "import numpy as np\n",
    "np.set_printoptions(suppress=True)\n",
    "\n",
    "output = subprocess.check_output(\"more ./console/results45.txt | grep '20): Error, Loss:'\", shell=True)\n",
    "output = str(output,'utf-8')\n",
    "output = StringIO(output)\n",
    "df=pd.read_csv(output,header=None, delimiter=r\"\\s+\")\n",
    "\n",
    "arr = np.array(df.iloc[:,[4,5]])\n",
    "\n",
    "for i,score in enumerate(arr):\n",
    "    arr[i,0] = float(score[0][1:])\n",
    "    arr[i,1] = float(score[1][:-1])\n",
    "\n",
    "arr = arr.astype(np.float32)\n",
    "\n",
    "arr2 = np.zeros((446,2))\n",
    "for a,i in enumerate(range(0,len(arr),20)):\n",
    "    for j in range(20):\n",
    "        arr2[a,0] += arr[i+j,0]/20\n",
    "        arr2[a,1] += arr[i+j,1]/20\n",
    "\n",
    "print('min error:', np.min(arr2[:,0]), 'at epoch',np.argmin(arr2[:,0]),'loss',arr2[np.argmin(arr2[:,0]),1])\n",
    "print('min loss:', np.min(arr2[:,1]),'at epoch' ,np.argmin(arr2[:,1]),'error',arr2[np.argmin(arr2[:,1]),0])"
   ]
  },
  {
   "cell_type": "code",
   "execution_count": 73,
   "metadata": {},
   "outputs": [
    {
     "data": {
      "text/plain": [
       "array([[0.59174   , 2.97299002],\n",
       "       [0.508225  , 2.210555  ],\n",
       "       [0.47157   , 1.93141999],\n",
       "       ...,\n",
       "       [0.200575  , 1.764765  ],\n",
       "       [0.203335  , 1.77367999],\n",
       "       [0.204305  , 1.74279   ]])"
      ]
     },
     "execution_count": 73,
     "metadata": {},
     "output_type": "execute_result"
    }
   ],
   "source": [
    "arr2"
   ]
  },
  {
   "cell_type": "code",
   "execution_count": null,
   "metadata": {},
   "outputs": [],
   "source": [
    "#v1 architecture, results0.txt\n",
    "#v2 architecture, results1.txt\n",
    "#v3 architecture, results2.txt\n",
    "#v4 architecture, results3.txt/results35.txt, trials\n",
    "#v4.5 architecture, results45.txt, trials2"
   ]
  }
 ],
 "metadata": {
  "kernelspec": {
   "display_name": "Python 3",
   "language": "python",
   "name": "python3"
  },
  "language_info": {
   "codemirror_mode": {
    "name": "ipython",
    "version": 3
   },
   "file_extension": ".py",
   "mimetype": "text/x-python",
   "name": "python",
   "nbconvert_exporter": "python",
   "pygments_lexer": "ipython3",
   "version": "3.8.5"
  }
 },
 "nbformat": 4,
 "nbformat_minor": 4
}
